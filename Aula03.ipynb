{
  "nbformat": 4,
  "nbformat_minor": 0,
  "metadata": {
    "colab": {
      "name": "Aula03.ipynb",
      "provenance": [],
      "authorship_tag": "ABX9TyMGV6F1thYeOv9N82Jg/NYm",
      "include_colab_link": true
    },
    "kernelspec": {
      "name": "python3",
      "display_name": "Python 3"
    },
    "language_info": {
      "name": "python"
    }
  },
  "cells": [
    {
      "cell_type": "markdown",
      "metadata": {
        "id": "view-in-github",
        "colab_type": "text"
      },
      "source": [
        "<a href=\"https://colab.research.google.com/github/leticiaainoan/ATIVIDADE-CONTEXTUALIZADA-01/blob/main/Aula03.ipynb\" target=\"_parent\"><img src=\"https://colab.research.google.com/assets/colab-badge.svg\" alt=\"Open In Colab\"/></a>"
      ]
    },
    {
      "cell_type": "code",
      "execution_count": null,
      "metadata": {
        "colab": {
          "base_uri": "https://localhost:8080/"
        },
        "id": "PWwq6gBsg0rP",
        "outputId": "9e96c7f3-1337-49b9-c47c-c8b1922b489c"
      },
      "outputs": [
        {
          "output_type": "stream",
          "name": "stdout",
          "text": [
            "4\n"
          ]
        }
      ],
      "source": [
        "print(\"4\") #Print é o que eu quero mostrar ao usuário\n"
      ]
    },
    {
      "cell_type": "code",
      "source": [
        "variavel= 3\n",
        "print(variavel)"
      ],
      "metadata": {
        "colab": {
          "base_uri": "https://localhost:8080/"
        },
        "id": "sNY1nI8Qi2QZ",
        "outputId": "4efb9473-83f3-44db-96aa-2f5031dfaaca"
      },
      "execution_count": null,
      "outputs": [
        {
          "output_type": "stream",
          "name": "stdout",
          "text": [
            "3\n"
          ]
        }
      ]
    },
    {
      "cell_type": "code",
      "source": [
        "varbol= True\n",
        "print(varbol)"
      ],
      "metadata": {
        "id": "LBF-F-fmlx_h"
      },
      "execution_count": null,
      "outputs": []
    },
    {
      "cell_type": "code",
      "source": [
        "varString=\"leticia\"\n",
        "print(varString)\n",
        "print(type(varString))"
      ],
      "metadata": {
        "id": "wCwK-D8TnLiz"
      },
      "execution_count": null,
      "outputs": []
    },
    {
      "cell_type": "code",
      "source": [
        "varInt= 3\n",
        "print(varInt)\n"
      ],
      "metadata": {
        "id": "Cc8DehQJn-Qc"
      },
      "execution_count": null,
      "outputs": []
    },
    {
      "cell_type": "code",
      "source": [
        "varFloat=3.87\n",
        "print(varFloat)\n",
        "print(type(varFloat))"
      ],
      "metadata": {
        "id": "-856DjYiohfV"
      },
      "execution_count": null,
      "outputs": []
    },
    {
      "cell_type": "code",
      "source": [
        "varbool= True"
      ],
      "metadata": {
        "id": "EOvHYSajo0GR"
      },
      "execution_count": null,
      "outputs": []
    },
    {
      "cell_type": "code",
      "source": [
        "import math\n",
        "print(math.sqrt(9))"
      ],
      "metadata": {
        "colab": {
          "base_uri": "https://localhost:8080/"
        },
        "id": "LecS3a-Bsy7N",
        "outputId": "af5f86eb-26d9-4a4f-94e0-30fb843b3e76"
      },
      "execution_count": null,
      "outputs": [
        {
          "output_type": "stream",
          "name": "stdout",
          "text": [
            "3.0\n"
          ]
        }
      ]
    },
    {
      "cell_type": "code",
      "source": [
        "soma=5+8\n",
        "print(soma)\n",
        "print(9+5)\n",
        "print(8-9)\n",
        "print(9*10)\n",
        "print(5/5)\n",
        "print(3**7)\n",
        "print(4//6)\n",
        "print(4%6)"
      ],
      "metadata": {
        "colab": {
          "base_uri": "https://localhost:8080/"
        },
        "id": "6KiMGuRKuwG0",
        "outputId": "b5adfd10-6d4d-4db6-dbf9-993bff9626d4"
      },
      "execution_count": null,
      "outputs": [
        {
          "output_type": "stream",
          "name": "stdout",
          "text": [
            "13\n",
            "14\n",
            "-1\n",
            "90\n",
            "1.0\n",
            "2187\n",
            "0\n",
            "4\n"
          ]
        }
      ]
    },
    {
      "cell_type": "code",
      "source": [
        "x=6\n",
        "y=7\n",
        "soma=x+y\n",
        "print(soma)\n",
        "\n",
        "x,y,z= 1,2,3\n",
        "soma=x+y+z\n",
        "print(soma)"
      ],
      "metadata": {
        "colab": {
          "base_uri": "https://localhost:8080/"
        },
        "id": "KK2DeP-Vwj7e",
        "outputId": "21c6a5ff-1c24-4257-c0dd-d6d5747b8029"
      },
      "execution_count": null,
      "outputs": [
        {
          "output_type": "stream",
          "name": "stdout",
          "text": [
            "13\n",
            "6\n"
          ]
        }
      ]
    },
    {
      "cell_type": "code",
      "source": [
        "var=True\n",
        "print(\"leticia\", not var)"
      ],
      "metadata": {
        "colab": {
          "base_uri": "https://localhost:8080/"
        },
        "id": "RAu7efgFy0Kg",
        "outputId": "2be4940d-32cc-43f6-d143-2a6e9cede7d6"
      },
      "execution_count": null,
      "outputs": [
        {
          "output_type": "stream",
          "name": "stdout",
          "text": [
            "leticia False\n"
          ]
        }
      ]
    },
    {
      "cell_type": "code",
      "source": [
        "var1 =True\n",
        "var2 = False\n",
        "print(\"significa que:\", var1 or var2)"
      ],
      "metadata": {
        "colab": {
          "base_uri": "https://localhost:8080/"
        },
        "id": "DYu_MI3z0CjE",
        "outputId": "6c6ee89b-b37b-46f0-e795-e4c8fd3aa5bf"
      },
      "execution_count": null,
      "outputs": [
        {
          "output_type": "stream",
          "name": "stdout",
          "text": [
            "significa que: True\n"
          ]
        }
      ]
    },
    {
      "cell_type": "code",
      "source": [
        "print(2==3)\n",
        "print(2!=2)"
      ],
      "metadata": {
        "colab": {
          "base_uri": "https://localhost:8080/"
        },
        "id": "8X35RCn3zcon",
        "outputId": "dc0fb7a3-3e93-4cc4-b3d0-71d59f699731"
      },
      "execution_count": null,
      "outputs": [
        {
          "output_type": "stream",
          "name": "stdout",
          "text": [
            "False\n",
            "False\n"
          ]
        }
      ]
    },
    {
      "cell_type": "code",
      "source": [
        ""
      ],
      "metadata": {
        "id": "bFqEeJy-34N1"
      },
      "execution_count": null,
      "outputs": []
    },
    {
      "cell_type": "code",
      "source": [
        "#calculo do IMC\n",
        "a=1.53\n",
        "p=53\n",
        "imc=p/a**2\n",
        "print(imc)\n",
        "print(\"Peso muito abaixo do normal\", imc<17)\n",
        "print(\"Peso abaixo do normal\", 17<=imc<=18.5)\n",
        "print(\"Peso dentro do normal\",18.5<=imc<=25)\n",
        "print(\"Peso acima do normal\",25<=imc<=30)\n",
        "print(\"Peso muito acima do normal\", imc>30)"
      ],
      "metadata": {
        "colab": {
          "base_uri": "https://localhost:8080/"
        },
        "id": "uwK-Mn382Wwl",
        "outputId": "9e81e326-43ed-49c5-e2af-8c2f5ab64f61"
      },
      "execution_count": null,
      "outputs": [
        {
          "output_type": "stream",
          "name": "stdout",
          "text": [
            "23.555555555555557\n",
            "Peso muito abaixo do normal False\n",
            "Peso abaixo do normal False\n",
            "Peso dentro do normal True\n",
            "Peso acima do normal False\n",
            "Peso muito acima do normal False\n"
          ]
        }
      ]
    },
    {
      "cell_type": "code",
      "source": [
        ""
      ],
      "metadata": {
        "id": "UUFxLMolAlVg"
      },
      "execution_count": null,
      "outputs": []
    },
    {
      "cell_type": "code",
      "source": [
        "#calculo do IMC\n",
        "#calculo IMC\n",
        "p=float(input('digite seu peso'))\n",
        "a=float(input('digite sua altura'))\n",
        "imc=(p/a**2)\n",
        "print(imc)\n",
        "#IMCnormal18.5 e 25  IMCbaixo<17 a 18.5 IMCalto> 25 e 30 IMCmuitoalto >30 \n",
        "print('peso muito abaixo do normal',imc<17)\n",
        "print('peso abaixo do normal', 17<=imc<=18.5)\n",
        "print('peso normal', 18.5<=imc<=25)\n",
        "print('peso a cima do normal',25<=imc<=30)\n",
        "print('peso muito a cima do normal', imc >30)"
      ],
      "metadata": {
        "colab": {
          "base_uri": "https://localhost:8080/",
          "height": 281
        },
        "outputId": "2ec4177c-0781-4fbb-fa45-f86b8b29f1a8",
        "id": "sJNBhdecAmi1"
      },
      "execution_count": null,
      "outputs": [
        {
          "name": "stdout",
          "output_type": "stream",
          "text": [
            "digite seu peso53\n",
            "digite sua altura1.59\n"
          ]
        },
        {
          "output_type": "error",
          "ename": "TypeError",
          "evalue": "ignored",
          "traceback": [
            "\u001b[0;31m---------------------------------------------------------------------------\u001b[0m",
            "\u001b[0;31mTypeError\u001b[0m                                 Traceback (most recent call last)",
            "\u001b[0;32m<ipython-input-51-1c5040225dab>\u001b[0m in \u001b[0;36m<module>\u001b[0;34m\u001b[0m\n\u001b[1;32m      4\u001b[0m \u001b[0ma\u001b[0m\u001b[0;34m=\u001b[0m\u001b[0mfloat\u001b[0m\u001b[0;34m(\u001b[0m\u001b[0minput\u001b[0m\u001b[0;34m(\u001b[0m\u001b[0;34m'digite sua altura'\u001b[0m\u001b[0;34m)\u001b[0m\u001b[0;34m)\u001b[0m\u001b[0;34m\u001b[0m\u001b[0;34m\u001b[0m\u001b[0m\n\u001b[1;32m      5\u001b[0m \u001b[0mimc\u001b[0m\u001b[0;34m=\u001b[0m\u001b[0;34m(\u001b[0m\u001b[0mp\u001b[0m\u001b[0;34m/\u001b[0m\u001b[0ma\u001b[0m\u001b[0;34m**\u001b[0m\u001b[0;36m2\u001b[0m\u001b[0;34m)\u001b[0m\u001b[0;34m\u001b[0m\u001b[0;34m\u001b[0m\u001b[0m\n\u001b[0;32m----> 6\u001b[0;31m \u001b[0mprint\u001b[0m\u001b[0;34m(\u001b[0m\u001b[0mimc\u001b[0m\u001b[0;34m)\u001b[0m\u001b[0;34m\u001b[0m\u001b[0;34m\u001b[0m\u001b[0m\n\u001b[0m\u001b[1;32m      7\u001b[0m \u001b[0;31m#IMCnormal18.5 e 25  IMCbaixo<17 a 18.5 IMCalto> 25 e 30 IMCmuitoalto >30\u001b[0m\u001b[0;34m\u001b[0m\u001b[0;34m\u001b[0m\u001b[0;34m\u001b[0m\u001b[0m\n\u001b[1;32m      8\u001b[0m \u001b[0mprint\u001b[0m\u001b[0;34m(\u001b[0m\u001b[0;34m'peso muito abaixo do normal'\u001b[0m\u001b[0;34m,\u001b[0m\u001b[0mimc\u001b[0m\u001b[0;34m<\u001b[0m\u001b[0;36m17\u001b[0m\u001b[0;34m)\u001b[0m\u001b[0;34m\u001b[0m\u001b[0;34m\u001b[0m\u001b[0m\n",
            "\u001b[0;31mTypeError\u001b[0m: 'str' object is not callable"
          ]
        }
      ]
    },
    {
      "cell_type": "code",
      "source": [
        "login= input(\"digite seu login\")\n",
        "senha= input(\"digite sua senha\")\n",
        "print= (\"Seu login é %s e sua senha é %s\" %(login,senha)) "
      ],
      "metadata": {
        "colab": {
          "base_uri": "https://localhost:8080/"
        },
        "id": "6LF_JOyJ7X-L",
        "outputId": "575a19ac-482e-4c72-8e5c-b1a95485859e"
      },
      "execution_count": null,
      "outputs": [
        {
          "name": "stdout",
          "output_type": "stream",
          "text": [
            "digite seu loginlkg\n",
            "digite sua senha7656\n"
          ]
        }
      ]
    }
  ]
}